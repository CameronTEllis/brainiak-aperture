{
 "cells": [
  {
   "cell_type": "markdown",
   "metadata": {},
   "source": [
    "# Rapid prototyping of fMRI models with `brainiak.matnormal`\n",
    "\n",
    "## Warmup: regression\n",
    "Unlike many of the other tools in `brainiak`, the `brainiak.matnormal` package is only a little bit about specific methods and a lot about letting you try new ideas and method variants quickly. If the variants are useful, they can be sped up and made neater for broader consumption. \n",
    "\n",
    "To understand how simple it is to prototype new matrix-normal models, consider first simple linear regression: \n",
    "\n",
    "$$\n",
    "Y \\sim \\mathcal{MN}(XB, I, I), \n",
    "$$\n",
    "\n",
    "where $Y$ is a centered TRs by voxels matrix of brain data, $X$ is a TRs by conditions design matrix, and $B$ is a conditions by voxels coefficients matrix. Notated this way, the model is the conventional massively-univariate GLM: the activation at every voxel and every timepoint is a linear combination (aka weighted sum) of the condition coding, weighted by the coefficients -- or equivalently a weighted sum of the coefficients, with the condition codes as weights. We can generate a simple dataset and show how simple it is to fit such a model by maximum likelihood using automatically computed gradients. "
   ]
  },
  {
   "cell_type": "code",
   "execution_count": 1,
   "metadata": {},
   "outputs": [],
   "source": [
    "# Generate data\n",
    "from sklearn.datasets import make_friedman1\n",
    "import numpy as np\n",
    "np.random.seed(1)\n",
    "\n",
    "features = 5\n",
    "voxels = 100\n",
    "TRs = 50\n",
    "\n",
    "X, _ = make_friedman1(n_samples=TRs, n_features=features, random_state=None)\n",
    "B = 5* np.random.random(size=(features, voxels))\n",
    "Y = X @ B + np.random.normal(size=(TRs, voxels))"
   ]
  },
  {
   "cell_type": "code",
   "execution_count": 2,
   "metadata": {},
   "outputs": [
    {
     "name": "stdout",
     "output_type": "stream",
     "text": [
      "b'CONVERGENCE: REL_REDUCTION_OF_F_<=_FACTR*EPSMCH'\n",
      "True an estimated B correlation: 0.9562578776525819\n"
     ]
    }
   ],
   "source": [
    "import tensorflow as tf\n",
    "tf.random.set_seed(1)\n",
    "# brainiak.matnormal.covs provides implementations of various \n",
    "# structured covariances. We will discuss this shortly. \n",
    "from brainiak.matnormal.covs import CovIdentity\n",
    "# brainiak.matnormal.utils provides helpers that (mostly) make it easy\n",
    "# to interface between tensorflow and scipy optimizers\n",
    "from brainiak.matnormal.utils import (\n",
    "    # this takes a loss function and wraps it into value and gradient\n",
    "    # functions that can be used with the scipy optimizers\n",
    "    make_val_and_grad, \n",
    "    # this packs trainable variables in tensorflow in the format \n",
    "    # scipy optimize rs need\n",
    "    pack_trainable_vars,\n",
    "    # this unpacks the train variables back to tensorflow variables\n",
    "    unpack_trainable_vars\n",
    ")\n",
    "# brainiak.matnormal.matnormal_likelihoods provides efficient implementations\n",
    "# of matrix-normal likelihoods, including marginals and conditionals\n",
    "from brainiak.matnormal.matnormal_likelihoods import matnorm_logp\n",
    "# what we actually use for optimization\n",
    "from scipy.optimize import minimize\n",
    "\n",
    "# Now we create the tensorflow objects we need. The covariances are independent\n",
    "# since this is the univariate GLM. \n",
    "space_cov = CovIdentity(size=voxels)\n",
    "time_cov = CovIdentity(size=TRs)\n",
    "\n",
    "# this is our estimate of B, and the wrappers for X and Y. \n",
    "B_hat = tf.Variable(np.random.normal(size=(features, voxels)), name=\"beta\")\n",
    "Y_tf = tf.constant(Y)\n",
    "X_tf = tf.constant(X)\n",
    "# construct loss (negative log likelihood)\n",
    "# note that params are ignored by this function but implicitly\n",
    "# tracked by tensorflow to compute gradients\n",
    "def loss(params):\n",
    "    return -matnorm_logp( Y_tf - X_tf @ B_hat, time_cov, space_cov)\n",
    "\n",
    "val_and_grad = make_val_and_grad(lossfn=loss, train_vars=[B_hat])\n",
    "initial_guess = pack_trainable_vars([B_hat])\n",
    "opt_results = minimize(fun=val_and_grad, x0=initial_guess, jac=True, method=\"L-BFGS-B\")\n",
    "print(opt_results.message) # check that we converged\n",
    "\n",
    "_ = B_hat.assign(unpack_trainable_vars(opt_results.x, trainable_vars=[B_hat])[0])\n",
    "\n",
    "import matplotlib.pyplot as plt\n",
    "from scipy.stats import pearsonr\n",
    "plt.plot(B_hat.numpy().flatten(), B.flatten(), 'bo')\n",
    "print(f\"True an estimated B correlation: {pearsonr(B_hat.numpy().flatten(), B.flatten())[0]}\")"
   ]
  },
  {
   "cell_type": "markdown",
   "metadata": {},
   "source": [
    "In practice, a simple model like this could just as easily be fit using more standard tools. More interesting is if we (reasonably) assume that the noise in our data is structured, and we want to model that structure rather than try to prewhiten it, for example:\n",
    "\n",
    "$$\n",
    "\\sigma_v^{-1} \\sim \\mathcal{InvGamma}(\\alpha, \\beta)\\\\\n",
    "Y \\sim \\mathcal{MN}(XB, \\Sigma_{AR1},\\mathrm{diag}(\\sigma_v)), \n",
    "$$\n",
    "\n",
    "where $\\Sigma_{AR1}$ is a structured covariance matrix with AR(1) structure, and the spatial covariance is diagonal (independent) but with varying scales for each voxel and we use an inverse-gamma prior to regularize them. Estimating this model is very similar: "
   ]
  },
  {
   "cell_type": "code",
   "execution_count": 3,
   "metadata": {},
   "outputs": [
    {
     "name": "stdout",
     "output_type": "stream",
     "text": [
      "b'CONVERGENCE: REL_REDUCTION_OF_F_<=_FACTR*EPSMCH'\n",
      "True an estimated B correlation: 0.9560323681925\n"
     ]
    },
    {
     "data": {
      "image/png": "[encoded data removed]",
      "text/plain": [
       "<Figure size 432x288 with 1 Axes>"
      ]
     },
     "metadata": {
      "needs_background": "light"
     },
     "output_type": "display_data"
    }
   ],
   "source": [
    "from brainiak.matnormal.covs import CovAR1, CovDiagonalGammaPrior\n",
    "from brainiak.matnormal.utils import rmn\n",
    "\n",
    "# generate AR(1) temporal noise that is independent in space\n",
    "true_time_cov = CovAR1(size=TRs)\n",
    "true_space_cov = CovDiagonalGammaPrior(size=voxels)\n",
    "noise = rmn(rowcov=true_time_cov._cov, colcov=true_space_cov._cov)\n",
    "Y = X @ B + noise\n",
    "\n",
    "# This time space_cov is AR(1)\n",
    "space_cov = CovDiagonalGammaPrior(size=voxels)\n",
    "time_cov = CovAR1(size=TRs)\n",
    "\n",
    "# Reset B_hat\n",
    "B_hat = tf.Variable(np.random.normal(size=(features, voxels)), name=\"beta\")\n",
    "\n",
    "# Now we estimate B_hat, but also the AR parameters and the\n",
    "# voxelwise residual variances (which the relevant\n",
    "# cov objects know about and expose to us)\n",
    "train_vars = [B_hat] + time_cov.get_optimize_vars() + space_cov.get_optimize_vars()\n",
    "\n",
    "val_and_grad = make_val_and_grad(lossfn=loss, train_vars=train_vars)\n",
    "initial_guess = pack_trainable_vars(train_vars)\n",
    "opt_results = minimize(fun=val_and_grad, x0=initial_guess, jac=True, method=\"L-BFGS-B\")\n",
    "print(opt_results.message) # check that we converged\n",
    "\n",
    "# assign the AR parameters as well as B\n",
    "unpacked_theta = unpack_trainable_vars(opt_results.x, trainable_vars=train_vars)\n",
    "for var, val in zip(train_vars, unpacked_theta):\n",
    "    var.assign(val)\n",
    "\n",
    "import matplotlib.pyplot as plt\n",
    "from scipy.stats import pearsonr\n",
    "plt.plot(B_hat.numpy().flatten(), B.flatten(), 'bo')\n",
    "print(f\"True an estimated B correlation: {pearsonr(B_hat.numpy().flatten(), B.flatten())[0]}\")"
   ]
  },
  {
   "cell_type": "markdown",
   "metadata": {},
   "source": [
    "`brainiak.matnormal` provides a convenience wrapper for such regression models. It actually performs a bit better by initializing the coefficients to the generalized least-squares solution, and then optimizing from there. "
   ]
  },
  {
   "cell_type": "code",
   "execution_count": 6,
   "metadata": {},
   "outputs": [
    {
     "name": "stdout",
     "output_type": "stream",
     "text": [
      "True an estimated B correlation: 0.8863497638916593\n"
     ]
    },
    {
     "data": {
      "image/png": "[encoded data removed]",
      "text/plain": [
       "<Figure size 432x288 with 1 Axes>"
      ]
     },
     "metadata": {
      "needs_background": "light"
     },
     "output_type": "display_data"
    }
   ],
   "source": [
    "from brainiak.matnormal.regression import MatnormalRegression\n",
    "\n",
    "model = MatnormalRegression(time_cov=time_cov, space_cov=space_cov)\n",
    "model.fit(X, Y)\n",
    "plt.plot(model.beta_.flatten(), B.flatten(), 'bo')\n",
    "print(f\"True an estimated B correlation: {pearsonr(model.beta_.flatten(), B.flatten())[0]}\")"
   ]
  },
  {
   "cell_type": "markdown",
   "metadata": {},
   "source": [
    "## Priors, marginalization and RSA\n"
   ]
  },
  {
   "cell_type": "markdown",
   "metadata": {},
   "source": [
    "## Latent design matrices: PCA, CCA / SRM, TFA, and ISFC"
   ]
  },
  {
   "cell_type": "code",
   "execution_count": null,
   "metadata": {},
   "outputs": [],
   "source": []
  }
 ],
 "metadata": {
  "kernelspec": {
   "display_name": "Python 3.6.8 64-bit ('brainiak': conda)",
   "language": "python",
   "name": "python36864bitbrainiakconda8b84166ea67d41168568f075ff354c6c"
  },
  "language_info": {
   "codemirror_mode": {
    "name": "ipython",
    "version": 3
   },
   "file_extension": ".py",
   "mimetype": "text/x-python",
   "name": "python",
   "nbconvert_exporter": "python",
   "pygments_lexer": "ipython3",
   "version": "3.6.8"
  }
 },
 "nbformat": 4,
 "nbformat_minor": 2
}
