{
 "cells": [
  {
   "cell_type": "markdown",
   "metadata": {},
   "source": [
    "# Rapid prototyping of fMRI models with `brainiak.matnormal`\n",
    "\n",
    "## Understanding kronecker-separability. \n",
    "Unlike many of the other tools in `brainiak`, the `brainiak.matnormal` package is only a little bit about specific methods and a lot about letting you try new ideas and method variants quickly. If the variants are useful, they can be sped up and made neater for broader consumption. To understand the idea behind matrix-normal or kronecker-separable models, consider the following figure: \n",
    "\n",
    "![title](schematic_kron.png)\n",
    "\n",
    "**Matrix normal models simultaneously model spatial and temporal residuals.** \\[A\\]: a schematic view of a vectorized data matrix, where each voxel's time series is vertically concatenated (in orange), and the covariance of every voxel at every timepoint with every other voxel at every other timepoint is modeled. Modeling all of these elements independently is intractable, and some structure needs to be imposed -- in this case, kronecker-separable structure. \\[B\\]: the un-vectorized data matrix (orange rectangle), and its spatial and temporal covariances on the right and bottom. \\[C\\]: A matrix-normal distribution with the mean M and row/column covariances R, C is equivalent to the large structure in \\[A\\], but can be much more tractable to estimate. Figure and caption reused under CC-BY-NC-ND from doi:[10.1016/j.neuropsychologia.2020.107500](https://doi.org/10.1016/j.neuropsychologia.2020.107500). \n"
   ]
  },
  {
   "cell_type": "markdown",
   "metadata": {},
   "source": [
    "## Warmup: regression\n",
    "To understand how simple it is to prototype new matrix-normal models, consider first simple linear regression: \n",
    "\n",
    "$$\n",
    "Y \\sim \\mathcal{MN}(XB, I, I), \n",
    "$$\n",
    "\n",
    "where $Y$ is a centered TRs by voxels matrix of brain data, $X$ is a TRs by conditions design matrix, and $B$ is a conditions by voxels coefficients matrix. Notated this way, the model is the conventional massively-univariate GLM: the activation at every voxel and every timepoint is a linear combination (aka weighted sum) of the condition coding, weighted by the coefficients -- or equivalently a weighted sum of the coefficients, with the condition codes as weights. We can generate a simple dataset and show how simple it is to fit such a model by maximum likelihood using automatically computed gradients. "
   ]
  },
  {
   "cell_type": "code",
   "execution_count": 1,
   "metadata": {},
   "outputs": [],
   "source": [
    "# Generate data\n",
    "from sklearn.datasets import make_friedman1\n",
    "import numpy as np\n",
    "np.random.seed(1)\n",
    "\n",
    "features = 5\n",
    "voxels = 100\n",
    "TRs = 50\n",
    "\n",
    "X, _ = make_friedman1(n_samples=TRs, n_features=features, random_state=None)\n",
    "B = 10 * np.random.random(size=(features, voxels))\n",
    "Y = X @ B + np.random.normal(size=(TRs, voxels))"
   ]
  },
  {
   "cell_type": "code",
   "execution_count": 2,
   "metadata": {},
   "outputs": [
    {
     "name": "stdout",
     "output_type": "stream",
     "text": [
      "b'CONVERGENCE: REL_REDUCTION_OF_F_<=_FACTR*EPSMCH'\n",
      "True an estimated B correlation: 0.9886131535511526\n"
     ]
    },
    {
     "data": {
      "image/png": "[encoded data removed]",
      "text/plain": [
       "<Figure size 432x288 with 1 Axes>"
      ]
     },
     "metadata": {
      "needs_background": "light"
     },
     "output_type": "display_data"
    }
   ],
   "source": [
    "import tensorflow as tf\n",
    "tf.random.set_seed(1)\n",
    "# brainiak.matnormal.covs provides implementations of various \n",
    "# structured covariances. We will discuss this shortly. \n",
    "from brainiak.matnormal.covs import CovIdentity\n",
    "# brainiak.matnormal.utils provides helpers that (mostly) make it easy\n",
    "# to interface between tensorflow and scipy optimizers\n",
    "from brainiak.matnormal.utils import (\n",
    "    # this takes a loss function and wraps it into value and gradient\n",
    "    # functions that can be used with the scipy optimizers\n",
    "    make_val_and_grad, \n",
    "    # this packs trainable variables in tensorflow in the format \n",
    "    # scipy optimize rs need\n",
    "    pack_trainable_vars,\n",
    "    # this unpacks the train variables back to tensorflow variables\n",
    "    unpack_trainable_vars\n",
    ")\n",
    "# brainiak.matnormal.matnormal_likelihoods provides efficient implementations\n",
    "# of matrix-normal likelihoods, including marginals and conditionals\n",
    "from brainiak.matnormal.matnormal_likelihoods import matnorm_logp\n",
    "# what we actually use for optimization\n",
    "from scipy.optimize import minimize\n",
    "\n",
    "# Now we create the tensorflow objects we need. The covariances are independent\n",
    "# since this is the univariate GLM. \n",
    "space_cov = CovIdentity(size=voxels)\n",
    "time_cov = CovIdentity(size=TRs)\n",
    "\n",
    "# this is our estimate of B, and the wrappers for X and Y. \n",
    "B_hat = tf.Variable(np.random.normal(size=(features, voxels)), name=\"beta\")\n",
    "Y_tf = tf.constant(Y)\n",
    "X_tf = tf.constant(X)\n",
    "# construct loss (negative log likelihood)\n",
    "# note that params are ignored by this function but implicitly\n",
    "# tracked by tensorflow to compute gradients\n",
    "def loss(params):\n",
    "    return -matnorm_logp( Y_tf - X_tf @ B_hat, time_cov, space_cov)\n",
    "\n",
    "val_and_grad = make_val_and_grad(lossfn=loss, train_vars=[B_hat])\n",
    "initial_guess = pack_trainable_vars([B_hat])\n",
    "opt_results = minimize(fun=val_and_grad, x0=initial_guess, jac=True, method=\"L-BFGS-B\")\n",
    "print(opt_results.message) # check that we converged\n",
    "\n",
    "_ = B_hat.assign(unpack_trainable_vars(opt_results.x, trainable_vars=[B_hat])[0])\n",
    "\n",
    "import matplotlib.pyplot as plt\n",
    "from scipy.stats import pearsonr\n",
    "plt.plot(B_hat.numpy().flatten(), B.flatten(), 'bo')\n",
    "print(f\"True an estimated B correlation: {pearsonr(B_hat.numpy().flatten(), B.flatten())[0]}\")"
   ]
  },
  {
   "cell_type": "markdown",
   "metadata": {},
   "source": [
    "In practice, a simple model like this could just as easily be fit using more standard tools. More interesting is if we (reasonably) assume that the noise in our data is structured, and we want to model that structure rather than try to prewhiten it, for example:\n",
    "\n",
    "$$\n",
    "\\sigma_v^{-1} \\sim \\mathcal{InvGamma}(\\alpha, \\beta)\\\\\n",
    "Y \\sim \\mathcal{MN}(XB, \\Sigma_{AR1},\\mathrm{diag}(\\sigma_v)), \n",
    "$$\n",
    "\n",
    "where $\\Sigma_{AR1}$ is a structured covariance matrix with AR(1) structure, and the spatial covariance is diagonal (independent) but with varying scales for each voxel and we use an inverse-gamma prior to regularize them. Estimating this model is very similar: "
   ]
  },
  {
   "cell_type": "code",
   "execution_count": 3,
   "metadata": {},
   "outputs": [
    {
     "name": "stdout",
     "output_type": "stream",
     "text": [
      "b'CONVERGENCE: REL_REDUCTION_OF_F_<=_FACTR*EPSMCH'\n",
      "True an estimated B correlation: 0.9885501014784571\n"
     ]
    },
    {
     "data": {
      "image/png": "[encoded data removed]",
      "text/plain": [
       "<Figure size 432x288 with 1 Axes>"
      ]
     },
     "metadata": {
      "needs_background": "light"
     },
     "output_type": "display_data"
    }
   ],
   "source": [
    "from brainiak.matnormal.covs import CovAR1, CovDiagonalGammaPrior\n",
    "from brainiak.matnormal.utils import rmn\n",
    "\n",
    "# generate AR(1) temporal noise that is independent in space\n",
    "true_time_cov = CovAR1(size=TRs)\n",
    "true_space_cov = CovDiagonalGammaPrior(size=voxels)\n",
    "noise = rmn(rowcov=true_time_cov._cov, colcov=true_space_cov._cov)\n",
    "Y = X @ B + noise\n",
    "\n",
    "# This time space_cov is AR(1)\n",
    "space_cov = CovDiagonalGammaPrior(size=voxels)\n",
    "time_cov = CovAR1(size=TRs)\n",
    "\n",
    "# Reset B_hat\n",
    "B_hat = tf.Variable(np.random.normal(size=(features, voxels)), name=\"beta\")\n",
    "\n",
    "# Now we estimate B_hat, but also the AR parameters and the\n",
    "# voxelwise residual variances (which the relevant\n",
    "# cov objects know about and expose to us)\n",
    "train_vars = [B_hat] + time_cov.get_optimize_vars() + space_cov.get_optimize_vars()\n",
    "\n",
    "# now this loss incorporates the log-likelihood of our covariance parameters \n",
    "def loss(params):\n",
    "    return -matnorm_logp( Y_tf - X_tf @ B_hat, time_cov, space_cov) - space_cov.logp - time_cov.logp\n",
    "\n",
    "val_and_grad = make_val_and_grad(lossfn=loss, train_vars=train_vars)\n",
    "initial_guess = pack_trainable_vars(train_vars)\n",
    "opt_results = minimize(fun=val_and_grad, x0=initial_guess, jac=True, method=\"L-BFGS-B\")\n",
    "print(opt_results.message) # check that we converged\n",
    "\n",
    "# assign the AR parameters as well as B\n",
    "unpacked_theta = unpack_trainable_vars(opt_results.x, trainable_vars=train_vars)\n",
    "for var, val in zip(train_vars, unpacked_theta):\n",
    "    var.assign(val)\n",
    "\n",
    "import matplotlib.pyplot as plt\n",
    "from scipy.stats import pearsonr\n",
    "plt.plot(B_hat.numpy().flatten(), B.flatten(), 'bo')\n",
    "print(f\"True an estimated B correlation: {pearsonr(B_hat.numpy().flatten(), B.flatten())[0]}\")"
   ]
  },
  {
   "cell_type": "markdown",
   "metadata": {},
   "source": [
    "`brainiak.matnormal` provides a convenience wrapper for such regression models. "
   ]
  },
  {
   "cell_type": "code",
   "execution_count": 4,
   "metadata": {},
   "outputs": [
    {
     "name": "stdout",
     "output_type": "stream",
     "text": [
      "True an estimated B correlation: 0.9669591205042376\n"
     ]
    },
    {
     "data": {
      "image/png": "[encoded data removed]",
      "text/plain": [
       "<Figure size 432x288 with 1 Axes>"
      ]
     },
     "metadata": {
      "needs_background": "light"
     },
     "output_type": "display_data"
    }
   ],
   "source": [
    "from brainiak.matnormal.regression import MatnormalRegression\n",
    "\n",
    "model = MatnormalRegression(time_cov=time_cov, space_cov=space_cov)\n",
    "model.fit(X, Y, naive_init=False)\n",
    "plt.plot(model.beta_.flatten(), B.flatten(), 'bo')\n",
    "print(f\"True an estimated B correlation: {pearsonr(model.beta_.flatten(), B.flatten())[0]}\")"
   ]
  },
  {
   "cell_type": "markdown",
   "metadata": {},
   "source": [
    "## Priors, marginalization and RSA\n",
    "\n",
    "We have already introduced the idea of priors in the previous example, though in that case we were using them purely as regularization. But we can sometimes set priors in a way that lets us integrate over some nuisance parameter entirely. This marginalization is used, for example, in deriving BRSA from beta-series RSA (also available in `brainiak`). We notate the same marginalization in the matrix-normal setting next. If: \n",
    "\n",
    "$$\n",
    "B \\sim \\mathcal{MN}(0, U, I)\\\\\n",
    "Y \\mid B \\sim \\mathcal{MN}(XB, \\Sigma_{AR1},I), \n",
    "$$\n",
    "then:\n",
    "$$\n",
    "Y \\sim \\mathcal{MN}(0, XUX^{T} + \\Sigma_{AR1},I), \n",
    "$$\n",
    "\n",
    "and the RSA correlation is given by dividing the RSA covariance $U$ by the featurewise variances. BRSA relies on a number of linear algebra tricks to speed up estimation, and similar tricks for the matrix-normal setting are availble in generalized form to enable MN-RSA (note that this is repeated from the `brainiak` MN-RSA example notebook): "
   ]
  },
  {
   "cell_type": "code",
   "execution_count": 5,
   "metadata": {},
   "outputs": [
    {
     "ename": "NameError",
     "evalue": "name 'cov2corr' is not defined",
     "output_type": "error",
     "traceback": [
      "\u001b[0;31m---------------------------------------------------------------------------\u001b[0m",
      "\u001b[0;31mNameError\u001b[0m                                 Traceback (most recent call last)",
      "\u001b[0;32m<ipython-input-5-9c0ac10238f7>\u001b[0m in \u001b[0;36m<module>\u001b[0;34m\u001b[0m\n\u001b[1;32m     55\u001b[0m \u001b[0;34m\u001b[0m\u001b[0m\n\u001b[1;32m     56\u001b[0m \u001b[0mtrue_beta\u001b[0m\u001b[0;34m,\u001b[0m \u001b[0mtrue_X\u001b[0m\u001b[0;34m,\u001b[0m \u001b[0mtrue_Y\u001b[0m\u001b[0;34m,\u001b[0m \u001b[0mtrue_U\u001b[0m \u001b[0;34m=\u001b[0m \u001b[0mgen_data\u001b[0m\u001b[0;34m(\u001b[0m\u001b[0mn_T\u001b[0m\u001b[0;34m,\u001b[0m \u001b[0mn_V\u001b[0m\u001b[0;34m,\u001b[0m \u001b[0mspacecov_true\u001b[0m\u001b[0;34m,\u001b[0m \u001b[0mtimecov_true\u001b[0m\u001b[0;34m)\u001b[0m\u001b[0;34m\u001b[0m\u001b[0;34m\u001b[0m\u001b[0m\n\u001b[0;32m---> 57\u001b[0;31m \u001b[0mtrue_C\u001b[0m \u001b[0;34m=\u001b[0m \u001b[0mcov2corr\u001b[0m\u001b[0;34m(\u001b[0m\u001b[0mtrue_U\u001b[0m\u001b[0;34m)\u001b[0m\u001b[0;34m\u001b[0m\u001b[0;34m\u001b[0m\u001b[0m\n\u001b[0m\u001b[1;32m     58\u001b[0m \u001b[0mplt\u001b[0m\u001b[0;34m.\u001b[0m\u001b[0mmatshow\u001b[0m\u001b[0;34m(\u001b[0m\u001b[0mtrue_C\u001b[0m\u001b[0;34m)\u001b[0m\u001b[0;34m\u001b[0m\u001b[0;34m\u001b[0m\u001b[0m\n\u001b[1;32m     59\u001b[0m \u001b[0mplt\u001b[0m\u001b[0;34m.\u001b[0m\u001b[0mcolorbar\u001b[0m\u001b[0;34m(\u001b[0m\u001b[0;34m)\u001b[0m\u001b[0;34m\u001b[0m\u001b[0;34m\u001b[0m\u001b[0m\n",
      "\u001b[0;31mNameError\u001b[0m: name 'cov2corr' is not defined"
     ]
    }
   ],
   "source": [
    "from scipy.stats import norm\n",
    "import scipy.linalg\n",
    "from scipy.special import expit as inv_logit\n",
    "import numpy as np\n",
    "from numpy.linalg import cholesky\n",
    "import matplotlib.pyplot as plt\n",
    "from matno\n",
    "\n",
    "def rmn(rowcov, colcov):\n",
    "    # generate random draws from a zero-mean matrix-normal distribution\n",
    "    Z = norm.rvs(norm.rvs(size=(rowcov.shape[0], colcov.shape[0])))\n",
    "    return cholesky(rowcov).dot(Z).dot(cholesky(colcov))\n",
    "\n",
    "\n",
    "def make_ar1_with_lowrank_covmat(size, rank):\n",
    "    \"\"\" Generate a random covariance that is AR1 with added low rank structure\n",
    "    \"\"\"\n",
    "    sigma = np.abs(norm.rvs())\n",
    "    rho = np.random.uniform(-1, 0)\n",
    "    offdiag_template = scipy.linalg.toeplitz(np.r_[0, 1, np.zeros(size - 2)])\n",
    "    diag_template = np.diag(np.r_[0, np.ones(size - 2), 0])\n",
    "    I = np.eye(size)\n",
    "\n",
    "    prec_matrix = (I - rho * offdiag_template + rho ** 2 * diag_template) / (sigma ** 2)\n",
    "    lowrank_matrix = norm.rvs(size=(size, rank))\n",
    "    return np.linalg.inv(prec_matrix) + lowrank_matrix.dot(lowrank_matrix.T)\n",
    "\n",
    "\n",
    "def gen_data(n_T, n_V, space_cov, time_cov):\n",
    "\n",
    "    n_C = 16\n",
    "    U = np.zeros([n_C, n_C])\n",
    "    U = np.eye(n_C) * 0.6\n",
    "    U[8:12, 8:12] = 0.8\n",
    "    for cond in range(8, 12):\n",
    "        U[cond, cond] = 1\n",
    "\n",
    "    beta = rmn(U, space_cov)\n",
    "\n",
    "    X = rmn(np.eye(n_T), np.eye(n_C))\n",
    "\n",
    "    Y_hat = X.dot(beta)\n",
    "\n",
    "    Y = Y_hat + rmn(time_cov, space_cov)\n",
    "\n",
    "    return beta, X, Y, U\n",
    "\n",
    "\n",
    "n_T = 100\n",
    "n_V = 80\n",
    "n_C = 16\n",
    "\n",
    "spacecov_true = np.diag(np.abs(norm.rvs(size=(n_V))))\n",
    "timecov_true = make_ar1_with_lowrank_covmat(n_T, rank=7)\n",
    "\n",
    "true_beta, true_X, true_Y, true_U = gen_data(n_T, n_V, spacecov_true, timecov_true)\n",
    "true_C = cov2corr(true_U)\n",
    "plt.matshow(true_C)\n",
    "plt.colorbar()\n",
    "# showing off more structured covariances\n",
    "from brainiak.matnormal.covs import CovUnconstrainedCholesky, CovDiagonal\n",
    "from brainiak.utils.utils import cov2corr\n",
    "# this efficiently computes matrix-normal marginals, marginalized over the row dimension\n",
    "from brainiak.matnormal.matnormal_likelihoods import matnorm_logp_marginal_row \n",
    "\n",
    "space_cov = CovDiagonal(size=n_V)\n",
    "time_cov = CovAR1(size=n_T)\n",
    "\n",
    "rsa_cov = CovUnconstrainedCholesky(size=n_C)\n",
    "\n",
    "params = (\n",
    "    rsa_cov.get_optimize_vars()\n",
    "    + time_cov.get_optimize_vars()\n",
    "    + space_cov.get_optimize_vars()\n",
    ")\n",
    "\n",
    "# note the loss now includes a marginal logp term, plus the likelihoods of the various covariances in question\n",
    "def loss(params):\n",
    "    return -(\n",
    "        time_cov.logp\n",
    "        + space_cov.logp\n",
    "        + rsa_cov.logp\n",
    "        + matnorm_logp_marginal_row(\n",
    "            true_Y, row_cov=time_cov, col_cov=space_cov, marg=true_X, marg_cov=rsa_cov\n",
    "        )\n",
    "    )\n",
    "\n",
    "val_and_grad = make_val_and_grad(lossfn=loss, train_vars=params)\n",
    "\n",
    "x0 = pack_trainable_vars(params)\n",
    "\n",
    "opt_results = minimize(fun=val_and_grad, x0=x0, jac=True, method=\"L-BFGS-B\")\n",
    "\n",
    "fit_params = unpack_trainable_vars(opt_results.x, params)\n",
    "\n",
    "for var, val in zip(params, fit_params):\n",
    "    var.assign(val)\n",
    "\n",
    "U = rsa_cov._cov.numpy()\n",
    "C = cov2corr(U)\n",
    "plt.matshow(C)\n",
    "plt.colorbar()"
   ]
  },
  {
   "cell_type": "markdown",
   "metadata": {},
   "source": [
    "As before, this model is available in `brainiak` directly, where it incorporates nuisance regressors as well: "
   ]
  },
  {
   "cell_type": "code",
   "execution_count": null,
   "metadata": {},
   "outputs": [],
   "source": [
    "from brainiak.matnormal.mnrsa import MNRSA\n",
    "model_matnorm = MNRSA(time_cov=time_cov, space_cov=space_cov, n_nureg=3)\n",
    "\n",
    "model_matnorm.fit(true_Y, true_X)\n",
    "plt.matshow(model_matnorm.C_)\n",
    "plt.colorbar()"
   ]
  },
  {
   "cell_type": "markdown",
   "metadata": {},
   "source": [
    "## Latent design matrices: PCA and FA\n",
    "\n",
    "The true benefit of a shared framework comes when starting to see the commonalities among methods. For example, consider what happens if the known design matrix $X$ is replaced with an unknown latent time series $S$, yielding the following model: \n",
    "\n",
    "$$\n",
    "Y \\sim \\mathcal{MN}(SB, I, I). \n",
    "$$\n",
    "\n",
    "In this model, we no longer know the design matrix, and the brain volume is now a weighted sum of unknown time series, with unknown weights. It turns out that this is precisely the model for probabilistic PCA, and there is nothing stopping us from implementing it in our framework: "
   ]
  },
  {
   "cell_type": "code",
   "execution_count": null,
   "metadata": {},
   "outputs": [],
   "source": [
    "# Generate data\n",
    "import numpy as np\n",
    "np.random.seed(1)\n",
    "\n",
    "features = 5\n",
    "voxels = 100\n",
    "TRs = 50\n",
    "\n",
    "S = np.sin(np.arange(TRs)[:, None] @ np.random.randn(1, features) + np.random.randn(1, features))\n",
    "plt.plot(S) # random sinewaves\n",
    "B = np.random.randn(features, voxels)\n",
    "Y = S @ B + np.random.randn(TRs, voxels)\n",
    "plt.figure()\n",
    "plt.plot(Y[:,0])"
   ]
  },
  {
   "cell_type": "code",
   "execution_count": null,
   "metadata": {},
   "outputs": [],
   "source": [
    "from brainiak.matnormal.covs import CovAR1, CovDiagonalGammaPrior\n",
    "from brainiak.matnormal.utils import rmn\n",
    "\n",
    "# generate AR(1) temporal noise that is independent in space\n",
    "true_time_cov = CovIdentity(size=TRs)\n",
    "true_space_cov = CovIdentity(size=voxels)\n",
    "noise = rmn(rowcov=true_time_cov._cov, colcov=true_space_cov._cov)\n",
    "Y_tf = tf.constant(S @ B + noise)\n",
    "\n",
    "# This time space_cov is AR(1)\n",
    "space_cov = CovDiagonalGammaPrior(size=voxels)\n",
    "time_cov = CovAR1(size=TRs)\n",
    "\n",
    "# B_hat, and now also S_hat\n",
    "B_hat = tf.Variable(np.random.normal(size=(features, voxels)), name=\"beta\")\n",
    "S_hat = tf.Variable(np.random.normal(size=(TRs, features)), name=\"S\")\n",
    "\n",
    "# Now we estimate B_hat, but also the AR parameters and the\n",
    "# voxelwise residual variances (which the relevant\n",
    "# cov objects know about and expose to us)\n",
    "train_vars = [B_hat, S_hat] + time_cov.get_optimize_vars() + space_cov.get_optimize_vars()\n",
    "\n",
    "# now this loss incorporates the log-likelihood of our covariance parameters \n",
    "def loss(params):\n",
    "    return -matnorm_logp( Y_tf - S_hat @ B_hat, time_cov, space_cov) - space_cov.logp - time_cov.logp\n",
    "\n",
    "val_and_grad = make_val_and_grad(lossfn=loss, train_vars=train_vars)\n",
    "initial_guess = pack_trainable_vars(train_vars)\n",
    "opt_results = minimize(fun=val_and_grad, x0=initial_guess, jac=True, method=\"L-BFGS-B\")\n",
    "print(opt_results.message) # check that we converged\n",
    "\n",
    "# assign the parameters\n",
    "unpacked_theta = unpack_trainable_vars(opt_results.x, trainable_vars=train_vars)\n",
    "for var, val in zip(train_vars, unpacked_theta):\n",
    "    var.assign(val)\n",
    "\n",
    "# Since the PCA solution is not unique, we show reconstruction\n",
    "plt.plot((S_hat @ B_hat).numpy().flatten(), (S @ B).flatten(), 'bo')\n",
    "# Also show the inner products of S and B\n",
    "plt.figure()\n",
    "plt.plot((S_hat @ tf.transpose(S_hat)).numpy().flatten(), (S @ S.T).flatten(), 'bo')\n",
    "plt.figure()\n",
    "plt.plot((tf.transpose(B_hat) @B_hat).numpy().flatten(), (B.T @ B).flatten(), 'bo')"
   ]
  },
  {
   "cell_type": "markdown",
   "metadata": {},
   "source": [
    "If the code above looked identical to the MN-GLM code earlier in the notebook, that's because it was, except for replacing the known design matrix $X$ with an estimated one $S$. If we replaced the `CovIdentity` with a `CovDiagonal` this model would be factor analysis, and other residual covariances may map to other models. `brainiak.matnormal` does not include a `MatnormalFactorAnalysis`, but we can easily sketch one here: "
   ]
  },
  {
   "cell_type": "code",
   "execution_count": null,
   "metadata": {},
   "outputs": [],
   "source": [
    "from sklearn.base import BaseEstimator, TransformerMixin\n",
    "\n",
    "class MNFactorAnalysis(BaseEstimator, TransformerMixin):\n",
    "    \"\"\" Linear gaussian LVM with with structured residuals. \n",
    "    If time_cov=space_cov=CovIdentity (the default), this is PCA\n",
    "    If time_cov=CovIdentity and space_cov=CovDiagonal (or vice versa)\n",
    "    this is factor analysis. \n",
    "    ..math::\n",
    "        Y \\\\sim \\\\mathcal{MN}(S\\beta, time_cov, space_cov)\n",
    "\n",
    "    Parameters\n",
    "    ----------\n",
    "    time_cov : subclass of CovBase\n",
    "        TR noise covariance class following CovBase interface.\n",
    "    space_cov : subclass of CovBase\n",
    "        Voxel noise covariance class following CovBase interface.\n",
    "    optimizer : string, default=\"L-BFGS-B\"\n",
    "        Scipy optimizer to use. For other options, see \"method\" argument\n",
    "        of scipy.optimize.minimize\n",
    "    optCtrl: dict, default=None\n",
    "        Additional arguments to pass to scipy.optimize.minimize.\n",
    "\n",
    "    \"\"\"\n",
    "\n",
    "    def __init__(self, time_cov, space_cov, n_features, optimizer=\"L-BFGS-B\",\n",
    "                 optCtrl=None):\n",
    "\n",
    "        self.optMethod = optimizer\n",
    "        if optCtrl is None:\n",
    "            self.optCtrl = {}\n",
    "\n",
    "        self.time_cov = time_cov\n",
    "        self.space_cov = space_cov\n",
    "        self.n_features = n_features\n",
    "\n",
    "        self.n_t = time_cov.size\n",
    "        self.n_v = space_cov.size\n",
    "\n",
    "    def logp(self, Y):\n",
    "        \"\"\" Log likelihood of model (internal)\n",
    "        \"\"\"\n",
    "        y_hat = tf.matmul(self.S, self.beta)\n",
    "        resid = Y - y_hat\n",
    "        return matnorm_logp(resid, self.time_cov, self.space_cov)\n",
    "\n",
    "    def fit(self, X, y=None, naive_init=True):\n",
    "        \"\"\" Compute the regression fit.\n",
    "\n",
    "        Parameters\n",
    "        ----------\n",
    "        X : np.array, TRs by voxels.\n",
    "            Brain data (note that this is Y in the math but we \n",
    "            call it X in the interface to maintain scikit-learn \n",
    "            API compatibility)\n",
    "        y : None\n",
    "            unused, here to maintain scikit-learn API compatibility\n",
    "        \"\"\"\n",
    "\n",
    "        if naive_init:\n",
    "            # initialize to SVD (conventional PCA)\n",
    "            u, _, v = np.linalg.svd(X)\n",
    "            s_init, beta_init = u[:, :self.n_features], v[:self.n_features, :]\n",
    "        else:\n",
    "            beta_init = np.random.randn(self.n_features, self.n_v)\n",
    "            s_init = np.random.randn(self.n_t, self.n_features)\n",
    "                \n",
    "        self.beta = tf.Variable(beta_init, name=\"beta\")\n",
    "        self.S = tf.Variable(s_init, name=\"S\")\n",
    "\n",
    "        self.train_variables = [self.beta, self.S]\n",
    "        self.train_variables.extend(self.time_cov.get_optimize_vars())\n",
    "        self.train_variables.extend(self.space_cov.get_optimize_vars())\n",
    "\n",
    "        def lossfn(theta):\n",
    "            return -self.logp(X)\n",
    "\n",
    "        val_and_grad = make_val_and_grad(lossfn, self.train_variables)\n",
    "        x0 = pack_trainable_vars(self.train_variables)\n",
    "\n",
    "        opt_results = minimize(\n",
    "            fun=val_and_grad, x0=x0, jac=True, method=self.optMethod,\n",
    "            **self.optCtrl\n",
    "        )\n",
    "\n",
    "        unpacked_theta = unpack_trainable_vars(\n",
    "            opt_results.x, self.train_variables)\n",
    "\n",
    "        for var, val in zip(self.train_variables, unpacked_theta):\n",
    "            var.assign(val)\n",
    "\n",
    "        self.beta_ = self.beta.numpy()\n",
    "        self.S_ = self.S.numpy()\n",
    "\n",
    "    def transform(X, direction=\"S\"): \n",
    "        \"\"\"\n",
    "        Transform input X using the fit model, returning \n",
    "        the projected time series (if direction=\"S\")\n",
    "        or inferred projection (if direction=\"B\"). \n",
    "        \n",
    "        Either simply requires solving a regression problem, \n",
    "        which can be done in closed form. \n",
    "        \n",
    "        Again, this is Y in the math but X in the code becasue\n",
    "        of scikit-learn\n",
    "        \"\"\"\n",
    "        if direction==\"S\": \n",
    "            # Sigma_s^{-1} B'\n",
    "            Sigma_s_btrp = self.space_cov.solve(tf.transpose(a=self.beta))\n",
    "            # Y Sigma_s^{-1} B'\n",
    "            Y_Sigma_Btrp = tf.matmul(X, Sigma_s_btrp).numpy()\n",
    "            # (B Sigma_s^{-1} B')^{-1}\n",
    "            B_Sigma_Btrp = tf.matmul(self.beta, Sigma_s_btrp).numpy()\n",
    "\n",
    "            S_test = np.linalg.solve(B_Sigma_Btrp.T, Y_Sigma_Btrp.T).T\n",
    "\n",
    "            return X_test\n",
    "        \n",
    "        elif direction==\"B\":\n",
    "            # S' Sigma_t^{-1} S\n",
    "            Strp_Sig_S = S.T @ self.time_cov.solve(S)\n",
    "            # S' Sigma_t^{-1} X\n",
    "            Strp_Sig_X = S.T @ self.time_cov.solve(X)\n",
    "            B_test = np.linalg.solve(Strp_Sig_S, Strp_Sig_X)\n",
    "            return B_test"
   ]
  },
  {
   "cell_type": "code",
   "execution_count": null,
   "metadata": {},
   "outputs": [],
   "source": [
    "mn_fa = MNFactorAnalysis(time_cov=time_cov, space_cov=space_cov, n_features=features)\n",
    "\n",
    "mn_fa.fit(Y)\n",
    "\n",
    "plt.plot((mn_fa.S_ @ mn_fa.beta_).flatten(), (S @ B).flatten(), 'bo')\n",
    "plt.figure()\n",
    "plt.plot((mn_fa.S_ @ mn_fa.S_.T).flatten(), (S @ S.T).flatten(), 'bo')\n",
    "plt.figure()\n",
    "plt.plot((mn_fa.beta_.T @ mn_fa.beta_ ).flatten(), (B.T @ B).flatten(), 'bo')"
   ]
  },
  {
   "cell_type": "markdown",
   "metadata": {},
   "source": [
    "In practice, we often don't want to estimate giant coefficient matrices if we can get away with it, so we might choose to marginalize over our large coefficient matrix here just as we do in the BRSA example. "
   ]
  },
  {
   "cell_type": "markdown",
   "metadata": {},
   "source": [
    "# Summary\n",
    "\n",
    "This demonstrates how understanding some of the underlying graphical models behind classic methods ca"
   ]
  },
  {
   "cell_type": "code",
   "execution_count": null,
   "metadata": {},
   "outputs": [],
   "source": []
  }
 ],
 "metadata": {
  "kernelspec": {
   "display_name": "Python [conda env:brainiak]",
   "language": "python",
   "name": "conda-env-brainiak-py"
  },
  "language_info": {
   "codemirror_mode": {
    "name": "ipython",
    "version": 3
   },
   "file_extension": ".py",
   "mimetype": "text/x-python",
   "name": "python",
   "nbconvert_exporter": "python",
   "pygments_lexer": "ipython3",
   "version": "3.6.10"
  }
 },
 "nbformat": 4,
 "nbformat_minor": 2
}
