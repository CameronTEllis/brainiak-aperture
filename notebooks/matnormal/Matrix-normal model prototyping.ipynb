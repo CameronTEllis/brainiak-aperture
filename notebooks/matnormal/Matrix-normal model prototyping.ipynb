{
 "cells": [
  {
   "cell_type": "markdown",
   "metadata": {},
   "source": [
    "# Rapid prototyping of fMRI models with `brainiak.matnormal`\n",
    "\n",
    "## Warmup: regression\n",
    "Unlike many of the other tools in `brainiak`, the `brainiak.matnormal` package is only a little bit about specific methods and a lot about letting you try new ideas and method variants quickly. If the variants are useful, they can be sped up and made neater for broader consumption. \n",
    "\n",
    "To understand how simple it is to prototype new matrix-normal models, consider first simple linear regression: \n",
    "\n",
    "$$\n",
    "Y \\sim \\mathcal{MN}(XB, I, I), \n",
    "$$\n",
    "\n",
    "where $Y$ is a centered TRs by voxels matrix of brain data, $X$ is a TRs by conditions design matrix, and $B$ is a conditions by voxels coefficients matrix. Notated this way, the model is the conventional massively-univariate GLM: the activation at every voxel and every timepoint is a linear combination (aka weighted sum) of the condition coding, weighted by the coefficients -- or equivalently a weighted sum of the coefficients, with the condition codes as weights. We can generate a simple dataset and show how simple it is to fit such a model by maximum likelihood using automatically computed gradients. "
   ]
  },
  {
   "cell_type": "code",
   "execution_count": 1,
   "metadata": {},
   "outputs": [],
   "source": [
    "# Generate data\n",
    "from sklearn.datasets import make_friedman1\n",
    "import numpy as np\n",
    "np.random.seed(1)\n",
    "\n",
    "features = 5\n",
    "voxels = 100\n",
    "TRs = 50\n",
    "\n",
    "X, _ = make_friedman1(n_samples=TRs, n_features=features, random_state=None)\n",
    "B = 5* np.random.random(size=(features, voxels))\n",
    "Y = X @ B + np.random.normal(size=(TRs, voxels))"
   ]
  },
  {
   "cell_type": "code",
   "execution_count": 2,
   "metadata": {},
   "outputs": [
    {
     "name": "stdout",
     "output_type": "stream",
     "text": [
      "b'CONVERGENCE: REL_REDUCTION_OF_F_<=_FACTR*EPSMCH'\n"
     ]
    },
    {
     "name": "stderr",
     "output_type": "stream",
     "text": [
      "WARNING:matplotlib.font_manager:Matplotlib is building the font cache; this may take a moment.\n"
     ]
    },
    {
     "name": "stdout",
     "output_type": "stream",
     "text": [
      "True an estimated B correlation: 0.9562578776525819\n"
     ]
    },
    {
     "data": {
      "image/png": "[encoded data removed]",
      "text/plain": [
       "<Figure size 432x288 with 1 Axes>"
      ]
     },
     "metadata": {
      "needs_background": "light"
     },
     "output_type": "display_data"
    }
   ],
   "source": [
    "import tensorflow as tf\n",
    "tf.random.set_seed(1)\n",
    "# brainiak.matnormal.covs provides implementations of various \n",
    "# structured covariances. We will discuss this shortly. \n",
    "from brainiak.matnormal.covs import CovIdentity\n",
    "# brainiak.matnormal.utils provides helpers that (mostly) make it easy\n",
    "# to interface between tensorflow and scipy optimizers\n",
    "from brainiak.matnormal.utils import (\n",
    "    # this takes a loss function and wraps it into value and gradient\n",
    "    # functions that can be used with the scipy optimizers\n",
    "    make_val_and_grad, \n",
    "    # this packs trainable variables in tensorflow in the format \n",
    "    # scipy optimize rs need\n",
    "    pack_trainable_vars,\n",
    "    # this unpacks the train variables back to tensorflow variables\n",
    "    unpack_trainable_vars\n",
    ")\n",
    "# brainiak.matnormal.matnormal_likelihoods provides efficient implementations\n",
    "# of matrix-normal likelihoods, including marginals and conditionals\n",
    "from brainiak.matnormal.matnormal_likelihoods import matnorm_logp\n",
    "# what we actually use for optimization\n",
    "from scipy.optimize import minimize\n",
    "\n",
    "# Now we create the tensorflow objects we need. The covariances are independent\n",
    "# since this is the univariate GLM. \n",
    "space_cov = CovIdentity(size=voxels)\n",
    "time_cov = CovIdentity(size=TRs)\n",
    "\n",
    "# this is our estimate of B, and the wrappers for X and Y. \n",
    "B_hat = tf.Variable(np.random.normal(size=(features, voxels)), name=\"beta\")\n",
    "Y_tf = tf.constant(Y)\n",
    "X_tf = tf.constant(X)\n",
    "# construct loss (negative log likelihood)\n",
    "# note that params are ignored by this function but implicitly\n",
    "# tracked by tensorflow to compute gradients\n",
    "def loss(params):\n",
    "    return -matnorm_logp( Y_tf - X_tf @ B_hat, time_cov, space_cov)\n",
    "\n",
    "val_and_grad = make_val_and_grad(lossfn=loss, train_vars=[B_hat])\n",
    "initial_guess = pack_trainable_vars([B_hat])\n",
    "opt_results = minimize(fun=val_and_grad, x0=initial_guess, jac=True, method=\"L-BFGS-B\")\n",
    "print(opt_results.message) # check that we converged\n",
    "\n",
    "_ = B_hat.assign(unpack_trainable_vars(opt_results.x, trainable_vars=[B_hat])[0])\n",
    "\n",
    "import matplotlib.pyplot as plt\n",
    "from scipy.stats import pearsonr\n",
    "plt.plot(B_hat.numpy().flatten(), B.flatten(), 'bo')\n",
    "print(f\"True an estimated B correlation: {pearsonr(B_hat.numpy().flatten(), B.flatten())[0]}\")"
   ]
  },
  {
   "cell_type": "markdown",
   "metadata": {},
   "source": [
    "In practice, a simple model like this could just as easily be fit using more standard tools. More interesting is if we (reasonably) assume that the noise in our data is structured, and we want to model that structure rather than try to prewhiten it, for example:\n",
    "\n",
    "$$\n",
    "\\sigma_v^{-1} \\sim \\mathcal{InvGamma}(\\alpha, \\beta)\\\\\n",
    "Y \\sim \\mathcal{MN}(XB, \\Sigma_{AR1},\\mathrm{diag}(\\sigma_v)), \n",
    "$$\n",
    "\n",
    "where $\\Sigma_{AR1}$ is a structured covariance matrix with AR(1) structure, and the spatial covariance is diagonal (independent) but with varying scales for each voxel and we use an inverse-gamma prior to regularize them. Estimating this model is very similar: "
   ]
  },
  {
   "cell_type": "code",
   "execution_count": 8,
   "metadata": {},
   "outputs": [
    {
     "name": "stdout",
     "output_type": "stream",
     "text": [
      "b'CONVERGENCE: REL_REDUCTION_OF_F_<=_FACTR*EPSMCH'\n",
      "True an estimated B correlation: 0.9560363339613879\n"
     ]
    },
    {
     "data": {
      "image/png": "[encoded data removed]",
      "text/plain": [
       "<Figure size 432x288 with 1 Axes>"
      ]
     },
     "metadata": {
      "needs_background": "light"
     },
     "output_type": "display_data"
    }
   ],
   "source": [
    "from brainiak.matnormal.covs import CovAR1, CovDiagonalGammaPrior\n",
    "from brainiak.matnormal.utils import rmn\n",
    "\n",
    "# generate AR(1) temporal noise that is independent in space\n",
    "true_time_cov = CovAR1(size=TRs)\n",
    "true_space_cov = CovDiagonalGammaPrior(size=voxels)\n",
    "noise = rmn(rowcov=true_time_cov._cov, colcov=true_space_cov._cov)\n",
    "Y = X @ B + noise\n",
    "\n",
    "# This time space_cov is AR(1)\n",
    "space_cov = CovDiagonalGammaPrior(size=voxels)\n",
    "time_cov = CovAR1(size=TRs)\n",
    "\n",
    "# Reset B_hat\n",
    "B_hat = tf.Variable(np.random.normal(size=(features, voxels)), name=\"beta\")\n",
    "\n",
    "# Now we estimate B_hat, but also the AR parameters and the\n",
    "# voxelwise residual variances (which the relevant\n",
    "# cov objects know about and expose to us)\n",
    "train_vars = [B_hat] + time_cov.get_optimize_vars() + space_cov.get_optimize_vars()\n",
    "\n",
    "# now this loss incorporates the log-likelihood of our covariance parameters \n",
    "def loss(params):\n",
    "    return -matnorm_logp( Y_tf - X_tf @ B_hat, time_cov, space_cov) - space_cov.logp - time_cov.logp\n",
    "\n",
    "val_and_grad = make_val_and_grad(lossfn=loss, train_vars=train_vars)\n",
    "initial_guess = pack_trainable_vars(train_vars)\n",
    "opt_results = minimize(fun=val_and_grad, x0=initial_guess, jac=True, method=\"L-BFGS-B\")\n",
    "print(opt_results.message) # check that we converged\n",
    "\n",
    "# assign the AR parameters as well as B\n",
    "unpacked_theta = unpack_trainable_vars(opt_results.x, trainable_vars=train_vars)\n",
    "for var, val in zip(train_vars, unpacked_theta):\n",
    "    var.assign(val)\n",
    "\n",
    "import matplotlib.pyplot as plt\n",
    "from scipy.stats import pearsonr\n",
    "plt.plot(B_hat.numpy().flatten(), B.flatten(), 'bo')\n",
    "print(f\"True an estimated B correlation: {pearsonr(B_hat.numpy().flatten(), B.flatten())[0]}\")"
   ]
  },
  {
   "cell_type": "markdown",
   "metadata": {},
   "source": [
    "`brainiak.matnormal` provides a convenience wrapper for such regression models. It actually performs a bit better by initializing the coefficients to the generalized least-squares solution, and then optimizing from there. "
   ]
  },
  {
   "cell_type": "code",
   "execution_count": 6,
   "metadata": {},
   "outputs": [
    {
     "name": "stdout",
     "output_type": "stream",
     "text": [
      "True an estimated B correlation: 0.8863502925902039\n"
     ]
    },
    {
     "data": {
      "image/png": "[encoded data removed]",
      "text/plain": [
       "<Figure size 432x288 with 1 Axes>"
      ]
     },
     "metadata": {
      "needs_background": "light"
     },
     "output_type": "display_data"
    }
   ],
   "source": [
    "from brainiak.matnormal.regression import MatnormalRegression\n",
    "\n",
    "model = MatnormalRegression(time_cov=time_cov, space_cov=space_cov)\n",
    "model.fit(X, Y)\n",
    "plt.plot(model.beta_.flatten(), B.flatten(), 'bo')\n",
    "print(f\"True an estimated B correlation: {pearsonr(model.beta_.flatten(), B.flatten())[0]}\")"
   ]
  },
  {
   "cell_type": "markdown",
   "metadata": {},
   "source": [
    "## Priors, marginalization and RSA\n",
    "\n",
    "We have already introduced the idea of priors in the previous example, though in that case we were using them purely as regularization. But we can sometimes set priors in a way that lets us integrate over some nuisance parameter entirely. This marginalization is used, for example, in deriving BRSA from beta-series RSA (also available in `brainiak`). We notate the same marginalization in the matrix-normal setting next. If: \n",
    "\n",
    "$$\n",
    "B \\sim \\mathcal{MN}(0, U, I)\\\\\n",
    "Y \\mid B \\sim \\mathcal{MN}(XB, \\Sigma_{AR1},I), \n",
    "$$\n",
    "then:\n",
    "$$\n",
    "Y \\sim \\mathcal{MN}(0, XUX^{T} + \\Sigma_{AR1},I), \n",
    "$$\n",
    "\n",
    "And the RSA correlation is given by dividing the RSA covariance $U$ by the featurewise variances. BRSA relies on a number of linear algebra tricks to speed up estimation, and similar tricks for the matrix-normal setting are availble in generalized form to enable MN-RSA (note that this is repeated from the `brainiak` MN-RSA example notebook): "
   ]
  },
  {
   "cell_type": "code",
   "execution_count": 13,
   "metadata": {},
   "outputs": [
    {
     "data": {
      "text/plain": [
       "<matplotlib.colorbar.Colorbar at 0x7fcb47f60400>"
      ]
     },
     "execution_count": 13,
     "metadata": {},
     "output_type": "execute_result"
    },
    {
     "data": {
      "image/png": "[encoded data removed]",
      "text/plain": [
       "<Figure size 288x288 with 2 Axes>"
      ]
     },
     "metadata": {
      "needs_background": "light"
     },
     "output_type": "display_data"
    },
    {
     "data": {
      "image/png": "[encoded data removed]",
      "text/plain": [
       "<Figure size 288x288 with 2 Axes>"
      ]
     },
     "metadata": {
      "needs_background": "light"
     },
     "output_type": "display_data"
    }
   ],
   "source": [
    "from scipy.stats import norm\n",
    "import scipy.linalg\n",
    "from scipy.special import expit as inv_logit\n",
    "import numpy as np\n",
    "from numpy.linalg import cholesky\n",
    "import matplotlib.pyplot as plt\n",
    "\n",
    "\n",
    "def rmn(rowcov, colcov):\n",
    "    # generate random draws from a zero-mean matrix-normal distribution\n",
    "    Z = norm.rvs(norm.rvs(size=(rowcov.shape[0], colcov.shape[0])))\n",
    "    return cholesky(rowcov).dot(Z).dot(cholesky(colcov))\n",
    "\n",
    "\n",
    "def make_ar1_with_lowrank_covmat(size, rank):\n",
    "    \"\"\" Generate a random covariance that is AR1 with added low rank structure\n",
    "    \"\"\"\n",
    "    sigma = np.abs(norm.rvs())\n",
    "    rho = np.random.uniform(-1, 0)\n",
    "    offdiag_template = scipy.linalg.toeplitz(np.r_[0, 1, np.zeros(size - 2)])\n",
    "    diag_template = np.diag(np.r_[0, np.ones(size - 2), 0])\n",
    "    I = np.eye(size)\n",
    "\n",
    "    prec_matrix = (I - rho * offdiag_template + rho ** 2 * diag_template) / (sigma ** 2)\n",
    "    lowrank_matrix = norm.rvs(size=(size, rank))\n",
    "    return np.linalg.inv(prec_matrix) + lowrank_matrix.dot(lowrank_matrix.T)\n",
    "\n",
    "\n",
    "def gen_data(n_T, n_V, space_cov, time_cov):\n",
    "\n",
    "    n_C = 16\n",
    "    U = np.zeros([n_C, n_C])\n",
    "    U = np.eye(n_C) * 0.6\n",
    "    U[8:12, 8:12] = 0.8\n",
    "    for cond in range(8, 12):\n",
    "        U[cond, cond] = 1\n",
    "\n",
    "    beta = rmn(U, space_cov)\n",
    "\n",
    "    X = rmn(np.eye(n_T), np.eye(n_C))\n",
    "\n",
    "    Y_hat = X.dot(beta)\n",
    "\n",
    "    Y = Y_hat + rmn(time_cov, space_cov)\n",
    "\n",
    "    return beta, X, Y, U\n",
    "\n",
    "\n",
    "n_T = 100\n",
    "n_V = 80\n",
    "n_C = 16\n",
    "\n",
    "spacecov_true = np.diag(np.abs(norm.rvs(size=(n_V))))\n",
    "timecov_true = make_ar1_with_lowrank_covmat(n_T, rank=7)\n",
    "\n",
    "true_beta, true_X, true_Y, true_U = gen_data(n_T, n_V, spacecov_true, timecov_true)\n",
    "true_C = cov2corr(true_U)\n",
    "plt.matshow(true_C)\n",
    "plt.colorbar()\n",
    "# showing off more structured covariances\n",
    "from brainiak.matnormal.covs import CovUnconstrainedCholesky, CovDiagonal\n",
    "from brainiak.utils.utils import cov2corr\n",
    "# this efficiently computes matrix-normal marginals, marginalized over the row dimension\n",
    "from brainiak.matnormal.matnormal_likelihoods import matnorm_logp_marginal_row \n",
    "\n",
    "space_cov = CovDiagonal(size=n_V)\n",
    "time_cov = CovAR1(size=n_T)\n",
    "\n",
    "rsa_cov = CovUnconstrainedCholesky(size=n_C)\n",
    "\n",
    "params = (\n",
    "    rsa_cov.get_optimize_vars()\n",
    "    + time_cov.get_optimize_vars()\n",
    "    + space_cov.get_optimize_vars()\n",
    ")\n",
    "\n",
    "# note the loss now includes a marginal logp term, plus the likelihoods of the various covariances in question\n",
    "def loss(params):\n",
    "    return -(\n",
    "        time_cov.logp\n",
    "        + space_cov.logp\n",
    "        + rsa_cov.logp\n",
    "        + matnorm_logp_marginal_row(\n",
    "            true_Y, row_cov=time_cov, col_cov=space_cov, marg=true_X, marg_cov=rsa_cov\n",
    "        )\n",
    "    )\n",
    "\n",
    "val_and_grad = make_val_and_grad(lossfn=loss, train_vars=params)\n",
    "\n",
    "x0 = pack_trainable_vars(params)\n",
    "\n",
    "opt_results = minimize(fun=val_and_grad, x0=x0, jac=True, method=\"L-BFGS-B\")\n",
    "\n",
    "fit_params = unpack_trainable_vars(opt_results.x, params)\n",
    "\n",
    "for var, val in zip(params, fit_params):\n",
    "    var.assign(val)\n",
    "\n",
    "U = rsa_cov._cov.numpy()\n",
    "C = cov2corr(U)\n",
    "plt.matshow(C)\n",
    "plt.colorbar()"
   ]
  },
  {
   "cell_type": "markdown",
   "metadata": {},
   "source": [
    "As before, this model is available in `brainiak` directly, where it incorporates nuisance regressors as well: "
   ]
  },
  {
   "cell_type": "code",
   "execution_count": 16,
   "metadata": {},
   "outputs": [
    {
     "data": {
      "text/plain": [
       "<matplotlib.colorbar.Colorbar at 0x7fcb405da9b0>"
      ]
     },
     "execution_count": 16,
     "metadata": {},
     "output_type": "execute_result"
    },
    {
     "data": {
      "image/png": "[encoded data removed]",
      "text/plain": [
       "<Figure size 288x288 with 2 Axes>"
      ]
     },
     "metadata": {
      "needs_background": "light"
     },
     "output_type": "display_data"
    }
   ],
   "source": [
    "from brainiak.matnormal.mnrsa import MNRSA\n",
    "model_matnorm = MNRSA(time_cov=time_cov, space_cov=space_cov, n_nureg=3)\n",
    "\n",
    "model_matnorm.fit(true_Y, true_X)\n",
    "plt.matshow(model_matnorm.C_)\n",
    "plt.colorbar()"
   ]
  },
  {
   "cell_type": "markdown",
   "metadata": {},
   "source": [
    "## Latent design matrices: PCA, CCA / SRM, TFA, and ISFC\n",
    "\n",
    "The true innovation of a shared framework comes when starting to see the commonalities among methods. For example, consider what happens if the known design matrix $X$ is replaced with an unknown latent time series $S$, yielding the following model: \n",
    "\n",
    "$$\n",
    "Y \\sim \\mathcal{MN}(SB, I, I). \n",
    "$$\n",
    "\n",
    "In this model, we no longer know the design matrix, and the brain volume is now a weighted sum of unknown time series, with unknown weights. It turns out that this is precisely the model for probabilistic PCA, and there is nothing stopping us from implementing it in our framework: "
   ]
  },
  {
   "cell_type": "code",
   "execution_count": 29,
   "metadata": {},
   "outputs": [],
   "source": [
    "# Generate data\n",
    "from sklearn.datasets import make_sparse_coded_signal\n",
    "import numpy as np\n",
    "np.random.seed(1)\n",
    "\n",
    "features = 5\n",
    "voxels = 100\n",
    "TRs = 50\n",
    "\n",
    "X, B, S = make_sparse_coded_signal(n_samples=TRs, n_components=features, n_features=voxels, n_nonzero_coefs=3)\n"
   ]
  },
  {
   "cell_type": "code",
   "execution_count": 26,
   "metadata": {},
   "outputs": [
    {
     "data": {
      "text/plain": [
       "(100, 50)"
      ]
     },
     "execution_count": 26,
     "metadata": {},
     "output_type": "execute_result"
    }
   ],
   "source": []
  },
  {
   "cell_type": "code",
   "execution_count": 27,
   "metadata": {},
   "outputs": [
    {
     "data": {
      "text/plain": [
       "(100, 5)"
      ]
     },
     "execution_count": 27,
     "metadata": {},
     "output_type": "execute_result"
    }
   ],
   "source": [
    "S.shape"
   ]
  },
  {
   "cell_type": "code",
   "execution_count": 28,
   "metadata": {},
   "outputs": [
    {
     "data": {
      "text/plain": [
       "(5, 50)"
      ]
     },
     "execution_count": 28,
     "metadata": {},
     "output_type": "execute_result"
    }
   ],
   "source": [
    "B.shape"
   ]
  },
  {
   "cell_type": "code",
   "execution_count": null,
   "metadata": {},
   "outputs": [],
   "source": []
  }
 ],
 "metadata": {
  "kernelspec": {
   "display_name": "Python [conda env:brainiak] *",
   "language": "python",
   "name": "conda-env-brainiak-py"
  },
  "language_info": {
   "codemirror_mode": {
    "name": "ipython",
    "version": 3
   },
   "file_extension": ".py",
   "mimetype": "text/x-python",
   "name": "python",
   "nbconvert_exporter": "python",
   "pygments_lexer": "ipython3",
   "version": "3.6.10"
  }
 },
 "nbformat": 4,
 "nbformat_minor": 2
}
