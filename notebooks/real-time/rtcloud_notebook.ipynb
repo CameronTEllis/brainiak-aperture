{
 "cells": [
  {
   "cell_type": "markdown",
   "metadata": {},
   "source": [
    "# Tutorial for Real-Time fMRI Cloud-Based Framework\n",
    "\n",
    "## Installation and Set Up\n",
    "\n",
    "1. To run this tutorial, you must first install our **Real-Time fMRI Cloud Framework**, henceforth rtcloud framework. Installation instructions are found on our [github repo](https://github.com/brainiak/rt-cloud/blob/master/Readme.md#installation). Specifically, you should go through steps 1-2.\n",
    "\n",
    "    * This will require cloning the rtcloud framework repo on your local computer (or wherever you are running this tutorial). We recommend that you clone the repo at the same level where you cloned or will clone the [github repo accompanying our Aperture paper](https://github.com/brainiak/brainiak-aperture/tree/master).\n",
    "\n",
    "\n",
    "2. If you haven't done so already, you should clone the brainiak-aperture repo to your local computer or server (so don't forget to <code>cd ..</code> if necessary!). Your directory structure should look something like this:\n",
    "\n",
    "```\n",
    ".\n",
    "├── brainiak-aperture\n",
    "│   ├── LICENSE\n",
    "│   ├── README.md\n",
    "│   ├── annotated_bibliography\n",
    "│   │   ├── real-time.md\n",
    "│   │   └── ...\n",
    "│   └── notebooks\n",
    "│       ├── real-time\n",
    "│       │   └── rtcloud_notebook.ipynb\n",
    "│       └── ...\n",
    "└── rt-cloud\n",
    "    ├── LICENSE\n",
    "    ├── Readme.md\n",
    "    ├── certs\n",
    "    │   └── ...\n",
    "    ├── docker\n",
    "    │   ├── Dockerfile.rtbase\n",
    "    │   └── Dockerfile.rtcloud\n",
    "    ├── docs\n",
    "    │   ├── Firefox-certificate-add-exception.png\n",
    "    │   └── ...\n",
    "    ├── environment.yml\n",
    "    ├── projects\n",
    "    │   ├── amygActivation\n",
    "    │   │   └── ...\n",
    "    │   └── sample\n",
    "    │       └── ...\n",
    "    ├── rtCommon\n",
    "    │   └── validationUtils.py\n",
    "    ├── scripts\n",
    "    │   └── ...\n",
    "    ├── tests\n",
    "    │   └── ...\n",
    "    └── web\n",
    "        └── ...\n",
    "```"
   ]
  },
  {
   "cell_type": "code",
   "execution_count": 1,
   "metadata": {},
   "outputs": [],
   "source": [
    "import os\n",
    "import sys\n",
    "\n",
    "path_to_rtcloud = '/Users/gwallace/src/github/brainiak/rt-cloud' # insert your path here\n",
    "sys.path.append(path_to_rtcloud)\n",
    "\n",
    "path_to_notebook = os.getcwd()  # check and change notebook path as needed"
   ]
  },
  {
   "cell_type": "code",
   "execution_count": 2,
   "metadata": {},
   "outputs": [
    {
     "name": "stderr",
     "output_type": "stream",
     "text": [
      "/Users/gwallace/src/github/brainiak/rt-cloud/rtCommon/imageHandling.py:19: UserWarning: The DICOM readers are highly experimental, unstable, and only work for Siemens time-series at the moment\n",
      "Please use with caution.  We would be grateful for your help in improving them\n",
      "  from nibabel.nicom import dicomreaders\n"
     ]
    }
   ],
   "source": [
    "import os\n",
    "import sys\n",
    "from rtCommon.projectInterface import Web\n",
    "from rtCommon.structDict import StructDict\n",
    "\n",
    "scriptToRun = 'projects/sample/sample.py'\n",
    "initScript = 'projects/sample/initialize.py'\n",
    "finalizeScript = 'projects/sample/finalize.py'\n",
    "\n",
    "# scriptToRun = os.path.join(path_to_notebook, 'sample.py')\n",
    "# initScript = os.path.join(path_to_notebook, 'initialize.py')\n",
    "# finalizeScript = os.path.join(path_to_notebook, 'finalize.py')\n",
    "\n",
    "config = StructDict({\n",
    "    'title' : 'Sample Project 2',\n",
    "    'sessionId' : '20180310T123000',\n",
    "    'subjectName' : '0219191_faceMatching',\n",
    "    'datestr' : '20190219',\n",
    "    'subjectNum' : 101,\n",
    "    'subjectDay' : 1,\n",
    "    'sessionNum' : 1,\n",
    "    'runNum' : [1],\n",
    "    'scanNum' : [13],\n",
    "\n",
    "    ## Plotting settings\n",
    "    'plotTitle' : 'Realtime Plot',\n",
    "    'plotXLabel' : 'Sample #',\n",
    "    'plotYLabel' : 'Value',\n",
    "    'plotXRangeLow' : 0,\n",
    "    'plotXRangeHigh' : 20,\n",
    "    'plotYRangeLow' : -1,\n",
    "    'plotYRangeHigh' : 1,\n",
    "    'plotAutoRangeX' : False,\n",
    "    'plotAutoRangeY' : True,\n",
    "\n",
    "    ## important variables about the dicom files\n",
    "    'dicomNamePattern' : '001_0000{}_000{}.dcm',\n",
    "    'minExpectedDicomSize' : 300000,\n",
    "})\n",
    "\n",
    "params = StructDict({\n",
    "    'fmriPyScript': scriptToRun,\n",
    "    'initScript': initScript,\n",
    "    'finalizeScript': finalizeScript,\n",
    "    'filesremote': False,\n",
    "    'port': 8889\n",
    "})\n",
    "\n",
    "web = Web()\n",
    "# web.start(params, config, testMode=True)"
   ]
  },
  {
   "cell_type": "code",
   "execution_count": 6,
   "metadata": {},
   "outputs": [
    {
     "name": "stdout",
     "output_type": "stream",
     "text": [
      "* Will raise <class 'nibabel.deprecator.ExpiredDeprecationError'> as of version: 5.0\n",
      "\n",
      "* Will raise <class 'nibabel.deprecator.ExpiredDeprecationError'> as of version: 5.0\n",
      "\n"
     ]
    }
   ],
   "source": [
    "%%script python --bg\n",
    "web.start(params, config, testMode=True)"
   ]
  },
  {
   "cell_type": "code",
   "execution_count": 7,
   "metadata": {},
   "outputs": [
    {
     "data": {
      "text/html": [
       "<iframe src=\"http://localhost:8889\" width=\"800\" height=\"600\"></iframe>\n"
      ],
      "text/plain": [
       "<IPython.core.display.HTML object>"
      ]
     },
     "metadata": {},
     "output_type": "display_data"
    }
   ],
   "source": [
    "%%html\n",
    "<iframe src=\"http://localhost:8889\" width=\"800\" height=\"600\"></iframe>"
   ]
  },
  {
   "cell_type": "code",
   "execution_count": null,
   "metadata": {},
   "outputs": [],
   "source": []
  }
 ],
 "metadata": {
  "kernelspec": {
   "display_name": "Python 3",
   "language": "python",
   "name": "python3"
  },
  "language_info": {
   "codemirror_mode": {
    "name": "ipython",
    "version": 3
   },
   "file_extension": ".py",
   "mimetype": "text/x-python",
   "name": "python",
   "nbconvert_exporter": "python",
   "pygments_lexer": "ipython3",
   "version": "3.7.9"
  }
 },
 "nbformat": 4,
 "nbformat_minor": 4
}
