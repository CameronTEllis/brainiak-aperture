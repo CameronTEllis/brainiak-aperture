{
 "cells": [
  {
   "cell_type": "markdown",
   "metadata": {},
   "source": [
    "## Tutorial for Real-Time fMRI Cloud-Based Framework\n",
    "\n",
    "### Brief Overview\n",
    "This tutorial walks through an example using our cloud-based software framework for real-time fMRI studies, henceforth **rtcloud framework**. We will begin by starting the projectInterface web server, which will wrap our sample.py script. We will then use a brainiak function to create synthetic DICOM data to simulate data produced from the scanner at 2 TRs. Finally, we will open the web server on a localhost that can be displayed in a cell (although you can also open it on a different tab in your browser).\n",
    "\n",
    "\n",
    "### Setting Things Up\n",
    "\n",
    "Before you can run this notebook, you will have to take the following steps to set up our framework:\n",
    "\n",
    "**1.** Clone the [brainiak aperture repo](https://github.com/brainiak/brainiak-aperture.git) and the [rtcloud framework repo](https://github.com/brainiak/rt-cloud.git). The location of the repositories do not matter but you should make a note of the paths.\n",
    "\n",
    "**2.** Follow [Step 1](https://github.com/brainiak/rt-cloud#step-1-install-mini-conda-and-nodejs) of the installation instructions for the rtcloud framework: check to see if you have conda, Node.js, and NPM installed. Install these packages if necessary.\n",
    "\n",
    "**3.** Create a conda environment that will be specific for the rtcloud framework and activate it:\n",
    "\n",
    "- `cd /PATH_TO_RTCLOUD/rt-cloud`\n",
    "- `conda env create -f environment.yml`\n",
    "- `conda activate rtcloud`\n",
    "\n",
    "**4.** You need to add the rtcloud framework repo to a couple of files, so that you can use the various framework functions we have created and stored in the **rtCommon** folder. \n",
    "\n",
    "- Obtain the full path to the rtcloud repo. You can do this by navigating to the repo on the terminal and then `pwd`-ing. \n",
    "- On command before starting jupyter notebook:\n",
    "export RTCLOUD_PATH=<PATH_TO_CLOUD>\n",
    "- In your text editor of choice (or after you launch `jupyter notebook` from the terminal), add the full path to the rtcloud framework repo to this jupyter notebook and sample.py. You can follow these instructions for your convenience:\n",
    "    - Open the file of choice (**rtcloud_notebook.ipynb** or **sample.py**)\n",
    "    - **⌘ + F:** search for \"ADD FULL PATH TO RTCLOUD REPO\", which will take you to the line where you want to declare the variable `path_to_cloud` with the correct path\n",
    "    - Paste the full path to the rtcloud repo to declare the `path_to_rtcloud` variable\n",
    "    \n",
    "**5.** You're all set! Enjoy going through this tutorial."
   ]
  },
  {
   "cell_type": "markdown",
   "metadata": {},
   "source": [
    "## Start the projectInterface Web Server"
   ]
  },
  {
   "cell_type": "code",
   "execution_count": null,
   "metadata": {},
   "outputs": [],
   "source": [
    "import os\n",
    "### ADD FULL PATH TO RTCLOUD REPO AND NOTEBOOK ###\n",
    "\n",
    "path_to_rtcloud = os.getenv('RTCLOUD_PATH')\n",
    "if path_to_rtcloud == None:\n",
    "    print(\"Please set RTCLOUD_PATH, see instructions\")\n",
    "    raise ValueError\n",
    "    \n",
    "path_to_notebook = os.getcwd()  # check and change notebook path as needed\n",
    "\n",
    "# the python path to the rtcloud repo is set here (to access rtCommon functions)\n",
    "import sys\n",
    "sys.path.append(path_to_rtcloud)\n",
    "\n",
    "# load important modules\n",
    "from rtCommon.projectInterface import Web\n",
    "from rtCommon.structDict import StructDict\n",
    "\n",
    "# declare the scripts that will be wrapped by the projectInterface and accessed through the webServer\n",
    "scriptToRun = os.path.join(path_to_notebook, 'sample.py')\n",
    "initScript = os.path.join(path_to_notebook, 'initialize.py')\n",
    "finalizeScript = os.path.join(path_to_notebook, 'finalize.py')\n",
    "\n",
    "# set up the config and parameters for this rtcloud tutorial\n",
    "# NOTE: you can also change these parameters in the Settings tab on the web server\n",
    "config = StructDict({\n",
    "    'title' : 'rtCloud Tutorial',\n",
    "    'sessionId' : '20200101T120000',\n",
    "    'subjectName' : '001_synthetic',\n",
    "    'datestr' : '20200101',\n",
    "    \n",
    "    'isSynthetic' : True,\n",
    "    'numSynthetic' : 200,\n",
    "    'imgDir' : '/tmp/notebook-simdata',\n",
    "    \n",
    "    'subjectNum' : 101,\n",
    "    'subjectDay' : 1,\n",
    "    'sessionNum' : 1,\n",
    "    'runNum' : [1],\n",
    "    'scanNum' : [13],\n",
    "\n",
    "    # Plotting settings\n",
    "    'plotTitle' : 'Realtime Plot',\n",
    "    'plotXLabel' : 'Sample #',\n",
    "    'plotYLabel' : 'Value',\n",
    "    'plotXRangeLow' : 0,\n",
    "    'plotXRangeHigh' : 20,\n",
    "    'plotYRangeLow' : -1,\n",
    "    'plotYRangeHigh' : 1,\n",
    "    'plotAutoRangeX' : False,\n",
    "    'plotAutoRangeY' : True,\n",
    "\n",
    "    # important variables about the dicom files\n",
    "    'dicomNamePattern' : \"rt_{run:03d}.dcm\",\n",
    "    'minExpectedDicomSize' : 200000,\n",
    "})\n",
    "\n",
    "params = StructDict({\n",
    "    'fmriPyScript': scriptToRun,\n",
    "    'initScript': initScript,\n",
    "    'finalizeScript': finalizeScript,\n",
    "    'filesremote': False,\n",
    "    'port': 8889\n",
    "})\n",
    "\n",
    "# start the web server\n",
    "web = Web()\n",
    "try:\n",
    "    web.start(params, config, testMode=True)\n",
    "    print(true)\n",
    "except RuntimeError as err:\n",
    "    # ignore event loop already running error\n",
    "    if str(err) != 'This event loop is already running':\n",
    "        raise"
   ]
  },
  {
   "cell_type": "markdown",
   "metadata": {},
   "source": [
    "#### PLEASE NOTE: If you want to re-start the projectInterface web server, you will first have to SHUTDOWN the kernel."
   ]
  },
  {
   "cell_type": "markdown",
   "metadata": {},
   "source": [
    "## Start the Synthetic Data Generator\n",
    "\n",
    "We will be using a brainiak function to create synthetic fMRI data. After you run the following cell, you can execute `sim_settings` in a separate cell to take a look at the different parameter settings. For instance, you will find that the synthetic data is being produced at a rate of 2 TRs."
   ]
  },
  {
   "cell_type": "code",
   "execution_count": null,
   "metadata": {},
   "outputs": [],
   "source": [
    "import threading\n",
    "import brainiak.utils.fmrisim_real_time_generator as sim\n",
    "\n",
    "sim_settings = sim.default_settings\n",
    "sim_settings['save_dicom'] = True\n",
    "sim_settings['save_realtime'] = True\n",
    "\n",
    "outdir = '/tmp/notebook-simdata'\n",
    "if not os.path.exists(outdir):\n",
    "    os.makedirs(outdir)\n",
    "\n",
    "# run sim.generate_data(outdir, sim_settings) as a thread\n",
    "syndata_thread = threading.Thread(name='syndata', \n",
    "                                  target=sim.generate_data, \n",
    "                                  args=(outdir, sim_settings))\n",
    "syndata_thread.setDaemon(True)\n",
    "syndata_thread.start()"
   ]
  },
  {
   "cell_type": "markdown",
   "metadata": {},
   "source": [
    "#### PLEASE NOTE: If you want to re-run the synthetic data generator in \"real-time\", you have to delete the `/tmp/notebook-simdata` folder."
   ]
  },
  {
   "cell_type": "code",
   "execution_count": null,
   "metadata": {},
   "outputs": [],
   "source": [
    "%%html\n",
    "<iframe src=\"http://localhost:8889\" width=\"800\" height=\"600\"></iframe>"
   ]
  }
 ],
 "metadata": {
  "kernelspec": {
   "display_name": "Python 3",
   "language": "python",
   "name": "python3"
  },
  "language_info": {
   "codemirror_mode": {
    "name": "ipython",
    "version": 3
   },
   "file_extension": ".py",
   "mimetype": "text/x-python",
   "name": "python",
   "nbconvert_exporter": "python",
   "pygments_lexer": "ipython3",
   "version": "3.7.9"
  }
 },
 "nbformat": 4,
 "nbformat_minor": 4
}
