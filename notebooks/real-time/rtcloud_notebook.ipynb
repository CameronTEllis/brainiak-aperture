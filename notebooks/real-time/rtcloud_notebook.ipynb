{
 "cells": [
  {
   "cell_type": "code",
   "execution_count": 1,
   "metadata": {},
   "outputs": [],
   "source": [
    "%%script python --bg\n",
    "from rtCommon.projectInterface import Web\n",
    "from rtCommon.structDict import StructDict\n",
    "\n",
    "scriptToRun = 'projects/sample/sample.py'\n",
    "initScript = 'projects/sample/initialize.py'\n",
    "finalizeScript = 'projects/sample/finalize.py'\n",
    "#defaultConfig = 'projects/sample/conf/sample.toml'\n",
    "\n",
    "config = StructDict({\n",
    "    'title' : 'Sample Project',\n",
    "    'sessionId' : '20180310T123000',\n",
    "    'subjectName' : '0219191_faceMatching',\n",
    "    'datestr' : '20190219',\n",
    "    'subjectNum' : 101,\n",
    "    'subjectDay' : 1,\n",
    "    'sessionNum' : 1,\n",
    "    'runNum' : [1],\n",
    "    'scanNum' : [13],\n",
    "\n",
    "    ## Plotting settings\n",
    "    'plotTitle' : 'Realtime Plot',\n",
    "    'plotXLabel' : 'Sample #',\n",
    "    'plotYLabel' : 'Value',\n",
    "    'plotXRangeLow' : 0,\n",
    "    'plotXRangeHigh' : 20,\n",
    "    'plotYRangeLow' : -1,\n",
    "    'plotYRangeHigh' : 1,\n",
    "    'plotAutoRangeX' : False,\n",
    "    'plotAutoRangeY' : True,\n",
    "\n",
    "    ## important variables about the dicom files\n",
    "    'dicomNamePattern' : '001_0000{}_000{}.dcm',\n",
    "    'minExpectedDicomSize' : 300000,\n",
    "})\n",
    "\n",
    "params = StructDict({\n",
    "    'fmriPyScript': scriptToRun,\n",
    "    'initScript': initScript,\n",
    "    'finalizeScript': finalizeScript,\n",
    "    'filesremote': False,\n",
    "    'port': 8889\n",
    "})\n",
    "\n",
    "web = Web()\n",
    "web.start(params, config, testMode=True)"
   ]
  },
  {
   "cell_type": "code",
   "execution_count": 2,
   "metadata": {},
   "outputs": [
    {
     "data": {
      "text/html": [
       "<iframe src=\"http://localhost:8889\" width=\"800\" height=\"600\"></iframe>\n"
      ],
      "text/plain": [
       "<IPython.core.display.HTML object>"
      ]
     },
     "metadata": {},
     "output_type": "display_data"
    }
   ],
   "source": [
    "%%html\n",
    "<iframe src=\"http://localhost:8889\" width=\"800\" height=\"600\"></iframe>"
   ]
  },
  {
   "cell_type": "code",
   "execution_count": null,
   "metadata": {},
   "outputs": [],
   "source": []
  }
 ],
 "metadata": {
  "kernelspec": {
   "display_name": "Python 3",
   "language": "python",
   "name": "python3"
  },
  "language_info": {
   "codemirror_mode": {
    "name": "ipython",
    "version": 3
   },
   "file_extension": ".py",
   "mimetype": "text/x-python",
   "name": "python",
   "nbconvert_exporter": "python",
   "pygments_lexer": "ipython3",
   "version": "3.6.10"
  }
 },
 "nbformat": 4,
 "nbformat_minor": 4
}
