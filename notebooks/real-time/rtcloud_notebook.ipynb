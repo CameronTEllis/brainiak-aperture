{
 "cells": [
  {
   "cell_type": "markdown",
   "metadata": {},
   "source": [
    "# Tutorial for Real-Time fMRI Cloud-Based Framework\n",
    "\n",
    "## Overview\n",
    "This tutorial walks through an example using our cloud-based software framework for real-time fMRI studies, henceforth **rtcloud framework**. We will begin by starting the projectInterface web server, which will wrap our sample.py script. We will then use a brainiak function to create synthetic DICOM data to simulate data produced from the scanner at 2 TRs. Finally, we will open the web server on a localhost that can be displayed in a cell (although you can also open it on a different tab in your browser).\n",
    "\n",
    "## Table of Contents\n",
    "\n",
    "* [Before Running This Notebook](#setting_up)\n",
    "* \n",
    "\n",
    "## Before Running This Notebook <a id='setting_up'></a>\n",
    "\n",
    "Before you are able to run this notebook, you have to complete the installation instructions found in the accompanying [instructions README](https://github.com/brainiak/brainiak-aperture/blob/master/notebooks/real-time/README_INSTRUCTIONS.md). Also remember that you have to complete the following steps every time before you are able to run this notebook:\n",
    "\n",
    "1. Activate the conda environment for the rtcloud framework:\n",
    "```\n",
    "conda activate rtcloud\n",
    "```\n",
    "2. On the command line, create a global variable to the full path for the rtcloud framework repo. You must do this in order to use the functions we have created for the framework. And don't forget the forward slash \"/\" at the end.\n",
    "```\n",
    "export RTCLOUD_PATH=/PATH_TO_RTCLOUD/rt-cloud/\n",
    "```\n",
    "Double check that you did this correctly by typing the following command. \n",
    "```\n",
    "ECHO $RTCLOUD_PATH\n",
    "```\n",
    "This should print the *full* path to the rtcloud framework folder."
   ]
  },
  {
   "cell_type": "markdown",
   "metadata": {},
   "source": [
    "## "
   ]
  },
  {
   "cell_type": "markdown",
   "metadata": {},
   "source": [
    "## Start the projectInterface Web Server"
   ]
  },
  {
   "cell_type": "code",
   "execution_count": 1,
   "metadata": {},
   "outputs": [
    {
     "name": "stdout",
     "output_type": "stream",
     "text": [
      "Listening on: http://localhost:8889\n"
     ]
    },
    {
     "name": "stderr",
     "output_type": "stream",
     "text": [
      "/Users/paulapbrooks/Desktop/practice/rt-cloud/rtCommon/imageHandling.py:19: UserWarning: The DICOM readers are highly experimental, unstable, and only work for Siemens time-series at the moment\n",
      "Please use with caution.  We would be grateful for your help in improving them\n",
      "  from nibabel.nicom import dicomreaders\n"
     ]
    }
   ],
   "source": [
    "### ADD FULL PATH TO RTCLOUD REPO AND NOTEBOOK ###\n",
    "import os\n",
    "path_to_rtcloud = os.getenv('RTCLOUD_PATH')\n",
    "if path_to_rtcloud == None:\n",
    "    print(\"Please set RTCLOUD_PATH, see instructions\")\n",
    "    raise ValueError\n",
    "    \n",
    "path_to_notebook = os.getcwd()  # check and change notebook path as needed\n",
    "\n",
    "# the python path to the rtcloud repo is set here (to access rtCommon functions)\n",
    "import sys\n",
    "sys.path.append(path_to_rtcloud)\n",
    "\n",
    "# load important modules\n",
    "from rtCommon.projectInterface import Web\n",
    "from rtCommon.structDict import StructDict\n",
    "\n",
    "# declare the scripts that will be wrapped by the projectInterface and accessed through the webServer\n",
    "scriptToRun = os.path.join(path_to_notebook, 'sample.py')\n",
    "initScript = os.path.join(path_to_notebook, 'initialize.py')\n",
    "finalizeScript = os.path.join(path_to_notebook, 'finalize.py')\n",
    "\n",
    "# MAYBE ADD THIS TO SETTINGS\n",
    "numTRs = 200\n",
    "\n",
    "# set up the config and parameters for this rtcloud tutorial\n",
    "# NOTE: you can also change these parameters in the Settings tab on the web server\n",
    "config = StructDict({\n",
    "    'title' : 'rtCloud Tutorial',\n",
    "    'sessionId' : '20200101T120000',\n",
    "    'subjectName' : '001_synthetic',\n",
    "    'datestr' : '20200101',\n",
    "    \n",
    "    'isSynthetic' : True,\n",
    "    'numSynthetic' : numTRs,\n",
    "    'imgDir' : '/tmp/notebook-simdata',\n",
    "    \n",
    "    'subjectNum' : 101,\n",
    "    'subjectDay' : 1,\n",
    "    'sessionNum' : 1,\n",
    "    'runNum' : [1],\n",
    "    'scanNum' : [14],\n",
    "\n",
    "    # Plotting settings\n",
    "    'plotTitle' : 'Realtime Plot',\n",
    "    'plotXLabel' : 'Sample #',\n",
    "    'plotYLabel' : 'Value',\n",
    "    'plotXRangeLow' : 0,\n",
    "    'plotXRangeHigh' : numTRs,\n",
    "    'plotYRangeLow' : -1,\n",
    "    'plotYRangeHigh' : 1,\n",
    "    'plotAutoRangeX' : False,\n",
    "    'plotAutoRangeY' : True,\n",
    "\n",
    "    # important variables about the dicom files\n",
    "    'dicomNamePattern' : \"rt_{run:03d}.dcm\",\n",
    "    'minExpectedDicomSize' : 200000,\n",
    "})\n",
    "\n",
    "params = StructDict({\n",
    "    'fmriPyScript': scriptToRun,\n",
    "    'initScript': initScript,\n",
    "    'finalizeScript': finalizeScript,\n",
    "    'filesremote': False,\n",
    "    'port': 8889\n",
    "})\n",
    "\n",
    "# start the web server\n",
    "web = Web()\n",
    "try:\n",
    "    web.start(params, config, testMode=True)\n",
    "    print(true)\n",
    "except RuntimeError as err:\n",
    "    # ignore event loop already running error\n",
    "    if str(err) != 'This event loop is already running':\n",
    "        raise"
   ]
  },
  {
   "cell_type": "markdown",
   "metadata": {},
   "source": [
    "***\n",
    "**IMPORTANT:**\n",
    "\n",
    "You can only run this cell to start the projectInterface web server only once or else you will get the following runtime error: \n",
    "```\n",
    "Web Server already running\n",
    "```\n",
    "If you want to re-start the web server, you have to first SHUT DOWN the kernel. Instructions for doing this can be found [here](https://jupyter-notebook-beginner-guide.readthedocs.io/en/latest/execute.html#close-a-notebook-kernel-shut-down).\n",
    "\n",
    "***"
   ]
  },
  {
   "cell_type": "markdown",
   "metadata": {},
   "source": [
    "## Start the Synthetic Data Generator\n",
    "\n",
    "We will be using a BrainIAK function to create synthetic fMRI data. After you run the following cell, you can execute `sim_settings` in a separate cell to take a look at the different parameter settings. For instance, you will find that the synthetic data is being produced at a rate of 2 TRs."
   ]
  },
  {
   "cell_type": "code",
   "execution_count": null,
   "metadata": {},
   "outputs": [],
   "source": [
    "import threading\n",
    "import brainiak.utils.fmrisim_real_time_generator as sim\n",
    "\n",
    "sim_settings = sim.default_settings\n",
    "sim_settings['save_dicom'] = True\n",
    "sim_settings['save_realtime'] = True\n",
    "sim_settings['numTRs'] = numTRs\n",
    "\n",
    "outdir = '/tmp/notebook-simdata'\n",
    "if not os.path.exists(outdir):\n",
    "    os.makedirs(outdir)\n",
    "\n",
    "# run sim.generate_data(outdir, sim_settings) as a thread\n",
    "syndata_thread = threading.Thread(name='syndata', \n",
    "                                  target=sim.generate_data, \n",
    "                                  args=(outdir, sim_settings))\n",
    "syndata_thread.setDaemon(True)\n",
    "syndata_thread.start()"
   ]
  },
  {
   "cell_type": "markdown",
   "metadata": {},
   "source": [
    "***\n",
    "**IMPORTANT:**\n",
    "\n",
    "You can only run this cell to generate the synthetic data in \"real-time\" once unless you delete the data that you have already created. Otherwise, all the data (which is found in the `/tmp/notebook-simdata` folder) will be automatically available when you open the web server, instead of having the File Watcher wait for incoming data one TR at a time.\n",
    "\n",
    "***"
   ]
  },
  {
   "cell_type": "markdown",
   "metadata": {},
   "source": [
    "## Open the web server on the localhost (you can also this on a separate browser tab)."
   ]
  },
  {
   "cell_type": "markdown",
   "metadata": {},
   "source": [
    "The first time you open the web server, either in the cell below or in a separate browser tab, you will be prompted to enter a username and password. In this demonstration, you will use \"test\" for both."
   ]
  },
  {
   "cell_type": "code",
   "execution_count": 3,
   "metadata": {},
   "outputs": [
    {
     "data": {
      "text/html": [
       "<iframe src=\"http://localhost:8889\" width=\"800\" height=\"600\"></iframe>\n"
      ],
      "text/plain": [
       "<IPython.core.display.HTML object>"
      ]
     },
     "metadata": {},
     "output_type": "display_data"
    },
    {
     "name": "stderr",
     "output_type": "stream",
     "text": [
      "/Users/paulapbrooks/anaconda3/envs/rtcloud_test/lib/python3.7/site-packages/scipy/stats/stats.py:2500: RuntimeWarning: invalid value encountered in true_divide\n",
      "  return (a - mns) / sstd\n",
      "WARNING:brainiak.utils.fmrisim:Stimfunction may be the wrong shape\n",
      "WARNING:brainiak.utils.fmrisim:Stimfunction may be the wrong shape\n"
     ]
    }
   ],
   "source": [
    "%%html\n",
    "<iframe src=\"http://localhost:8889\" width=\"800\" height=\"600\"></iframe>"
   ]
  }
 ],
 "metadata": {
  "kernelspec": {
   "display_name": "Python 3",
   "language": "python",
   "name": "python3"
  },
  "language_info": {
   "codemirror_mode": {
    "name": "ipython",
    "version": 3
   },
   "file_extension": ".py",
   "mimetype": "text/x-python",
   "name": "python",
   "nbconvert_exporter": "python",
   "pygments_lexer": "ipython3",
   "version": "3.7.9"
  }
 },
 "nbformat": 4,
 "nbformat_minor": 4
}
